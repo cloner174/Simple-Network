{
 "cells": [
  {
   "cell_type": "code",
   "execution_count": 1,
   "metadata": {},
   "outputs": [],
   "source": [
    "# install it if you did not yet!\n",
    "\n",
    "#!pip install simple-network"
   ]
  },
  {
   "cell_type": "code",
   "execution_count": null,
   "metadata": {},
   "outputs": [],
   "source": [
    "# import library :\n",
    "\n",
    "from simpleN import MultilayerNetwork, Visualize"
   ]
  },
  {
   "cell_type": "code",
   "execution_count": 2,
   "metadata": {},
   "outputs": [],
   "source": [
    "# Create an Object of it :\n",
    "\n",
    "g = MultilayerNetwork()"
   ]
  },
  {
   "cell_type": "code",
   "execution_count": 3,
   "metadata": {},
   "outputs": [],
   "source": [
    "# adding layers !\n",
    "\n",
    "g.add_layer('one')\n",
    "g.add_layer('two')"
   ]
  },
  {
   "cell_type": "code",
   "execution_count": 4,
   "metadata": {},
   "outputs": [],
   "source": [
    "# adding nodes to layer one !\n",
    "\n",
    "for i in range(50):\n",
    "    g.add_node(layer_name='one', node = i)"
   ]
  },
  {
   "cell_type": "code",
   "execution_count": 5,
   "metadata": {},
   "outputs": [],
   "source": [
    "# adding nodes to layer two !\n",
    "\n",
    "for i in range(50, 100):\n",
    "    g.add_node(layer_name='two', node = i)"
   ]
  },
  {
   "cell_type": "code",
   "execution_count": 6,
   "metadata": {},
   "outputs": [],
   "source": [
    "# Add Between layer edges !\n",
    "\n",
    "g.add_edge(node1=5, node2= 80 , layer_name1= 'one', layer_name2='two')\n",
    "g.add_edge(node1=17, node2= 55 , layer_name1= 'one', layer_name2='two')\n",
    "g.add_edge(node1=6, node2= 90 , layer_name1= 'one', layer_name2='two')\n",
    "g.add_edge(node1=47, node2= 52 , layer_name1= 'one', layer_name2='two')\n",
    "g.add_edge(node1=5, node2= 60 , layer_name1= 'one', layer_name2='two')\n",
    "g.add_edge(node1=15, node2= 99 , layer_name1= 'one', layer_name2='two')"
   ]
  },
  {
   "cell_type": "code",
   "execution_count": 7,
   "metadata": {},
   "outputs": [],
   "source": [
    "# Add Inside layer edges !\n",
    "\n",
    "g.add_edge(node1=6, node2= 27 , layer_name1= 'one', layer_name2='one')\n",
    "g.add_edge(node1=22, node2= 47 , layer_name1= 'one', layer_name2='one')\n",
    "g.add_edge(node1=14, node2= 15 , layer_name1= 'one', layer_name2='one')\n",
    "\n",
    "g.add_edge(node1=71, node2= 90 , layer_name1= 'two', layer_name2='two')\n",
    "g.add_edge(node1=66, node2= 99 , layer_name1= 'two', layer_name2='two')"
   ]
  },
  {
   "cell_type": "code",
   "execution_count": 8,
   "metadata": {},
   "outputs": [],
   "source": [
    "# adj_matrix = g.edges"
   ]
  },
  {
   "cell_type": "code",
   "execution_count": 12,
   "metadata": {},
   "outputs": [
    {
     "data": {
      "application/vnd.plotly.v1+json": {
       "config": {
        "plotlyServerURL": "https://plot.ly"
       },
       "data": [
        {
         "hoverinfo": "none",
         "line": {
          "color": "grey",
          "width": 1
         },
         "mode": "lines",
         "type": "scatter3d",
         "x": [
          0.22361693393557458,
          0.9377750924059792,
          null,
          0.6439962626323921,
          0.4064196898639927,
          null,
          0.4064196898639927,
          0.6439962626323921,
          null,
          0.8653125263905412,
          0.014434612037132033,
          null,
          0.9377750924059792,
          0.22361693393557458,
          null,
          0.014434612037132033,
          0.8653125263905412,
          null,
          0.7700218067932081,
          0.4948311403253861,
          null,
          0.8413976414936968,
          0.7387712777588856,
          null,
          0.7387712777588856,
          0.8413976414936968,
          null,
          0.4948311403253861,
          0.7700218067932081,
          null,
          0.2259771242293197,
          0.4278097629147466,
          null,
          0.1342932326247619,
          0.013494275793133115,
          null,
          0.22361693393557458,
          0.7387712777588856,
          null,
          0.014434612037132033,
          0.33477160716370513,
          null,
          0.2259771242293197,
          0.007772509304534991,
          null,
          0.4064196898639927,
          0.4948311403253861,
          null
         ],
         "y": [
          0.48361440840651393,
          0.1991091212827607,
          null,
          0.2214087119017717,
          0.8537901470880026,
          null,
          0.8537901470880026,
          0.2214087119017717,
          null,
          0.8399562729641374,
          0.6320614698907957,
          null,
          0.1991091212827607,
          0.48361440840651393,
          null,
          0.6320614698907957,
          0.8399562729641374,
          null,
          0.7121255801667964,
          0.4873454276443161,
          null,
          0.08165735487823944,
          0.686624644085622,
          null,
          0.686624644085622,
          0.08165735487823944,
          null,
          0.4873454276443161,
          0.7121255801667964,
          null,
          0.6916069574260876,
          0.8272985600058759,
          null,
          0.07718756201477284,
          0.21498479056766495,
          null,
          0.48361440840651393,
          0.686624644085622,
          null,
          0.6320614698907957,
          0.39645309824887365,
          null,
          0.6916069574260876,
          0.7931945974781575,
          null,
          0.8537901470880026,
          0.4873454276443161,
          null
         ],
         "z": [
          0,
          0,
          null,
          0,
          0,
          null,
          0,
          0,
          null,
          0,
          0,
          null,
          0,
          0,
          null,
          0,
          0,
          null,
          2,
          2,
          null,
          2,
          2,
          null,
          2,
          2,
          null,
          2,
          2,
          null,
          0,
          2,
          null,
          0,
          2,
          null,
          0,
          2,
          null,
          0,
          2,
          null,
          0,
          2,
          null,
          0,
          2,
          null
         ]
        },
        {
         "marker": {
          "color": [
           0,
           0,
           0,
           0,
           0,
           0,
           0,
           0,
           0,
           0,
           0,
           0,
           0,
           0,
           0,
           0,
           0,
           0,
           0,
           0,
           0,
           0,
           0,
           0,
           0,
           0,
           0,
           0,
           0,
           0,
           0,
           0,
           0,
           0,
           0,
           0,
           0,
           0,
           0,
           0,
           0,
           0,
           0,
           0,
           0,
           0,
           0,
           0,
           0,
           0,
           2,
           2,
           2,
           2,
           2,
           2,
           2,
           2,
           2,
           2,
           2,
           2,
           2,
           2,
           2,
           2,
           2,
           2,
           2,
           2,
           2,
           2,
           2,
           2,
           2,
           2,
           2,
           2,
           2,
           2,
           2,
           2,
           2,
           2,
           2,
           2,
           2,
           2,
           2,
           2,
           2,
           2,
           2,
           2,
           2,
           2,
           2,
           2,
           2,
           2
          ],
          "colorscale": [
           [
            0,
            "#440154"
           ],
           [
            0.1111111111111111,
            "#482878"
           ],
           [
            0.2222222222222222,
            "#3e4989"
           ],
           [
            0.3333333333333333,
            "#31688e"
           ],
           [
            0.4444444444444444,
            "#26828e"
           ],
           [
            0.5555555555555556,
            "#1f9e89"
           ],
           [
            0.6666666666666666,
            "#35b779"
           ],
           [
            0.7777777777777778,
            "#6ece58"
           ],
           [
            0.8888888888888888,
            "#b5de2b"
           ],
           [
            1,
            "#fde725"
           ]
          ],
          "size": 5
         },
         "mode": "markers",
         "text": [
          "0 (one)",
          "1 (one)",
          "2 (one)",
          "3 (one)",
          "4 (one)",
          "5 (one)",
          "6 (one)",
          "7 (one)",
          "8 (one)",
          "9 (one)",
          "10 (one)",
          "11 (one)",
          "12 (one)",
          "13 (one)",
          "14 (one)",
          "15 (one)",
          "16 (one)",
          "17 (one)",
          "18 (one)",
          "19 (one)",
          "20 (one)",
          "21 (one)",
          "22 (one)",
          "23 (one)",
          "24 (one)",
          "25 (one)",
          "26 (one)",
          "27 (one)",
          "28 (one)",
          "29 (one)",
          "30 (one)",
          "31 (one)",
          "32 (one)",
          "33 (one)",
          "34 (one)",
          "35 (one)",
          "36 (one)",
          "37 (one)",
          "38 (one)",
          "39 (one)",
          "40 (one)",
          "41 (one)",
          "42 (one)",
          "43 (one)",
          "44 (one)",
          "45 (one)",
          "46 (one)",
          "47 (one)",
          "48 (one)",
          "49 (one)",
          "50 (two)",
          "51 (two)",
          "52 (two)",
          "53 (two)",
          "54 (two)",
          "55 (two)",
          "56 (two)",
          "57 (two)",
          "58 (two)",
          "59 (two)",
          "60 (two)",
          "61 (two)",
          "62 (two)",
          "63 (two)",
          "64 (two)",
          "65 (two)",
          "66 (two)",
          "67 (two)",
          "68 (two)",
          "69 (two)",
          "70 (two)",
          "71 (two)",
          "72 (two)",
          "73 (two)",
          "74 (two)",
          "75 (two)",
          "76 (two)",
          "77 (two)",
          "78 (two)",
          "79 (two)",
          "80 (two)",
          "81 (two)",
          "82 (two)",
          "83 (two)",
          "84 (two)",
          "85 (two)",
          "86 (two)",
          "87 (two)",
          "88 (two)",
          "89 (two)",
          "90 (two)",
          "91 (two)",
          "92 (two)",
          "93 (two)",
          "94 (two)",
          "95 (two)",
          "96 (two)",
          "97 (two)",
          "98 (two)",
          "99 (two)"
         ],
         "type": "scatter3d",
         "x": [
          0.6187245796933203,
          0.6720657061872028,
          0.4939885010742484,
          0.287179311252476,
          0.5992465826694628,
          0.2259771242293197,
          0.22361693393557458,
          0.2740053013974212,
          0.7681709258923217,
          0.6384613665923982,
          0.8498346974962329,
          0.7429831626796869,
          0.024145716094222225,
          0.10547183563148832,
          0.6439962626323921,
          0.4064196898639927,
          0.6572520373567814,
          0.1342932326247619,
          0.995915871024235,
          0.7353620979286897,
          0.5290965981721347,
          0.6976430347947794,
          0.8653125263905412,
          0.07253770468861176,
          0.29272735257256943,
          0.780452786609362,
          0.5293821833494367,
          0.9377750924059792,
          0.6190068344432711,
          0.3156162935814506,
          0.7713244244263239,
          0.7805973843402462,
          0.2009072916460044,
          0.7675836646515529,
          0.5577365893998492,
          0.8826276663292392,
          0.007237265016792449,
          0.3170001937763899,
          0.19157672489153765,
          0.46819442923044896,
          0.12930966017642032,
          0.7237094957600192,
          0.21281493704047882,
          0.19701817191594118,
          0.6517378240873785,
          0.055282681765934094,
          0.492784577316159,
          0.014434612037132033,
          0.8412559475553611,
          0.4384166820613947,
          0.18159694359446532,
          0.6863376133878655,
          0.33477160716370513,
          0.9824029326134699,
          0.8602000062150306,
          0.013494275793133115,
          0.6605372240241788,
          0.6608279075507731,
          0.37253701742642786,
          0.07481438950576058,
          0.007772509304534991,
          0.9332371627680546,
          0.6156880656617865,
          0.272299708370602,
          0.2067756206705872,
          0.7129096575404665,
          0.7700218067932081,
          0.8353975315947665,
          0.0026071590402690914,
          0.8172824872967639,
          0.4131514921265519,
          0.8413976414936968,
          0.16102672655153705,
          0.43675206149513834,
          0.6249209290967839,
          0.4964017419877086,
          0.6098042754195189,
          0.6610002531758227,
          0.4826254000793787,
          0.31372730721311315,
          0.4278097629147466,
          0.7215843944375127,
          0.3792899089221117,
          0.7541638686716872,
          0.5993171694524758,
          0.3190331070128568,
          0.5255285913470968,
          0.8279820024828517,
          0.5578837159593191,
          0.04552294135750101,
          0.7387712777588856,
          0.653068704417033,
          0.639297783103659,
          0.34201930155929305,
          0.5844982859757408,
          0.5712327739544246,
          0.8186171084416435,
          0.03528957241152286,
          0.2715351104862399,
          0.4948311403253861
         ],
         "y": [
          0.2688484037546185,
          0.04525979184405493,
          0.5102092335534686,
          0.8701875406835258,
          0.6783261082982217,
          0.6916069574260876,
          0.48361440840651393,
          0.32520978952007573,
          0.26604812180550186,
          0.801505495876293,
          0.6079550409107802,
          0.9239900674796495,
          0.4917530106983651,
          0.07355091698165805,
          0.2214087119017717,
          0.8537901470880026,
          0.25954082937159084,
          0.07718756201477284,
          0.7073946837546469,
          0.6208869048502029,
          0.8897026786296276,
          0.6723045057580282,
          0.8399562729641374,
          0.7707120010611369,
          0.5023255761414886,
          0.7882623482520313,
          0.4126743382614001,
          0.1991091212827607,
          0.4436372580040474,
          0.45539106856412315,
          0.864819570462432,
          0.6269930537278106,
          0.400173103564478,
          0.6169183547417535,
          0.678411271353105,
          0.12197016694150287,
          0.3928744859935004,
          0.35321819988282477,
          0.5854451618858376,
          0.564840159442647,
          0.5896403799805136,
          0.038247833950711296,
          0.6161388802097951,
          0.9321549431251513,
          0.15459097911292852,
          0.9772763051460801,
          0.8426567066544449,
          0.6320614698907957,
          0.7837075507939908,
          0.7085563731060022,
          0.6571612889797558,
          0.8144245337891199,
          0.39645309824887365,
          0.8447574867427089,
          0.30979496885384084,
          0.21498479056766495,
          0.2700072335835402,
          0.6895716361371769,
          0.21909465914067827,
          0.6026454561868808,
          0.7931945974781575,
          0.40194072601857866,
          0.34635674177553766,
          0.6849357270336514,
          0.6493319052076149,
          0.5157155411418732,
          0.7121255801667964,
          0.751001462332626,
          0.042464041396880536,
          0.7456090849539705,
          0.7228696906851447,
          0.08165735487823944,
          0.7659760357255734,
          0.8467569661079849,
          0.880951798242548,
          0.16118555021312908,
          0.6595581013013574,
          0.018619758240065343,
          0.19218847443329834,
          0.05572573715314966,
          0.8272985600058759,
          0.7988619400314186,
          0.5435423681548986,
          0.7976613019872036,
          0.1879153747284652,
          0.09457835271474369,
          0.09674124133649165,
          0.355772856952302,
          0.2570143249625636,
          0.41455791615604476,
          0.686624644085622,
          0.38958898829895416,
          0.7816385880692294,
          0.4096383425068264,
          0.530730711129252,
          0.24890933074650967,
          0.7736777093602935,
          0.7396819215492041,
          0.1101324809962897,
          0.4873454276443161
         ],
         "z": [
          0,
          0,
          0,
          0,
          0,
          0,
          0,
          0,
          0,
          0,
          0,
          0,
          0,
          0,
          0,
          0,
          0,
          0,
          0,
          0,
          0,
          0,
          0,
          0,
          0,
          0,
          0,
          0,
          0,
          0,
          0,
          0,
          0,
          0,
          0,
          0,
          0,
          0,
          0,
          0,
          0,
          0,
          0,
          0,
          0,
          0,
          0,
          0,
          0,
          0,
          2,
          2,
          2,
          2,
          2,
          2,
          2,
          2,
          2,
          2,
          2,
          2,
          2,
          2,
          2,
          2,
          2,
          2,
          2,
          2,
          2,
          2,
          2,
          2,
          2,
          2,
          2,
          2,
          2,
          2,
          2,
          2,
          2,
          2,
          2,
          2,
          2,
          2,
          2,
          2,
          2,
          2,
          2,
          2,
          2,
          2,
          2,
          2,
          2,
          2
         ]
        }
       ],
       "layout": {
        "scene": {
         "xaxis": {
          "showgrid": false,
          "showticklabels": false,
          "zeroline": false
         },
         "yaxis": {
          "showgrid": false,
          "showticklabels": false,
          "zeroline": false
         },
         "zaxis": {
          "showgrid": false,
          "showticklabels": false,
          "zeroline": false
         }
        },
        "showlegend": false,
        "template": {
         "data": {
          "bar": [
           {
            "error_x": {
             "color": "#2a3f5f"
            },
            "error_y": {
             "color": "#2a3f5f"
            },
            "marker": {
             "line": {
              "color": "#E5ECF6",
              "width": 0.5
             },
             "pattern": {
              "fillmode": "overlay",
              "size": 10,
              "solidity": 0.2
             }
            },
            "type": "bar"
           }
          ],
          "barpolar": [
           {
            "marker": {
             "line": {
              "color": "#E5ECF6",
              "width": 0.5
             },
             "pattern": {
              "fillmode": "overlay",
              "size": 10,
              "solidity": 0.2
             }
            },
            "type": "barpolar"
           }
          ],
          "carpet": [
           {
            "aaxis": {
             "endlinecolor": "#2a3f5f",
             "gridcolor": "white",
             "linecolor": "white",
             "minorgridcolor": "white",
             "startlinecolor": "#2a3f5f"
            },
            "baxis": {
             "endlinecolor": "#2a3f5f",
             "gridcolor": "white",
             "linecolor": "white",
             "minorgridcolor": "white",
             "startlinecolor": "#2a3f5f"
            },
            "type": "carpet"
           }
          ],
          "choropleth": [
           {
            "colorbar": {
             "outlinewidth": 0,
             "ticks": ""
            },
            "type": "choropleth"
           }
          ],
          "contour": [
           {
            "colorbar": {
             "outlinewidth": 0,
             "ticks": ""
            },
            "colorscale": [
             [
              0,
              "#0d0887"
             ],
             [
              0.1111111111111111,
              "#46039f"
             ],
             [
              0.2222222222222222,
              "#7201a8"
             ],
             [
              0.3333333333333333,
              "#9c179e"
             ],
             [
              0.4444444444444444,
              "#bd3786"
             ],
             [
              0.5555555555555556,
              "#d8576b"
             ],
             [
              0.6666666666666666,
              "#ed7953"
             ],
             [
              0.7777777777777778,
              "#fb9f3a"
             ],
             [
              0.8888888888888888,
              "#fdca26"
             ],
             [
              1,
              "#f0f921"
             ]
            ],
            "type": "contour"
           }
          ],
          "contourcarpet": [
           {
            "colorbar": {
             "outlinewidth": 0,
             "ticks": ""
            },
            "type": "contourcarpet"
           }
          ],
          "heatmap": [
           {
            "colorbar": {
             "outlinewidth": 0,
             "ticks": ""
            },
            "colorscale": [
             [
              0,
              "#0d0887"
             ],
             [
              0.1111111111111111,
              "#46039f"
             ],
             [
              0.2222222222222222,
              "#7201a8"
             ],
             [
              0.3333333333333333,
              "#9c179e"
             ],
             [
              0.4444444444444444,
              "#bd3786"
             ],
             [
              0.5555555555555556,
              "#d8576b"
             ],
             [
              0.6666666666666666,
              "#ed7953"
             ],
             [
              0.7777777777777778,
              "#fb9f3a"
             ],
             [
              0.8888888888888888,
              "#fdca26"
             ],
             [
              1,
              "#f0f921"
             ]
            ],
            "type": "heatmap"
           }
          ],
          "heatmapgl": [
           {
            "colorbar": {
             "outlinewidth": 0,
             "ticks": ""
            },
            "colorscale": [
             [
              0,
              "#0d0887"
             ],
             [
              0.1111111111111111,
              "#46039f"
             ],
             [
              0.2222222222222222,
              "#7201a8"
             ],
             [
              0.3333333333333333,
              "#9c179e"
             ],
             [
              0.4444444444444444,
              "#bd3786"
             ],
             [
              0.5555555555555556,
              "#d8576b"
             ],
             [
              0.6666666666666666,
              "#ed7953"
             ],
             [
              0.7777777777777778,
              "#fb9f3a"
             ],
             [
              0.8888888888888888,
              "#fdca26"
             ],
             [
              1,
              "#f0f921"
             ]
            ],
            "type": "heatmapgl"
           }
          ],
          "histogram": [
           {
            "marker": {
             "pattern": {
              "fillmode": "overlay",
              "size": 10,
              "solidity": 0.2
             }
            },
            "type": "histogram"
           }
          ],
          "histogram2d": [
           {
            "colorbar": {
             "outlinewidth": 0,
             "ticks": ""
            },
            "colorscale": [
             [
              0,
              "#0d0887"
             ],
             [
              0.1111111111111111,
              "#46039f"
             ],
             [
              0.2222222222222222,
              "#7201a8"
             ],
             [
              0.3333333333333333,
              "#9c179e"
             ],
             [
              0.4444444444444444,
              "#bd3786"
             ],
             [
              0.5555555555555556,
              "#d8576b"
             ],
             [
              0.6666666666666666,
              "#ed7953"
             ],
             [
              0.7777777777777778,
              "#fb9f3a"
             ],
             [
              0.8888888888888888,
              "#fdca26"
             ],
             [
              1,
              "#f0f921"
             ]
            ],
            "type": "histogram2d"
           }
          ],
          "histogram2dcontour": [
           {
            "colorbar": {
             "outlinewidth": 0,
             "ticks": ""
            },
            "colorscale": [
             [
              0,
              "#0d0887"
             ],
             [
              0.1111111111111111,
              "#46039f"
             ],
             [
              0.2222222222222222,
              "#7201a8"
             ],
             [
              0.3333333333333333,
              "#9c179e"
             ],
             [
              0.4444444444444444,
              "#bd3786"
             ],
             [
              0.5555555555555556,
              "#d8576b"
             ],
             [
              0.6666666666666666,
              "#ed7953"
             ],
             [
              0.7777777777777778,
              "#fb9f3a"
             ],
             [
              0.8888888888888888,
              "#fdca26"
             ],
             [
              1,
              "#f0f921"
             ]
            ],
            "type": "histogram2dcontour"
           }
          ],
          "mesh3d": [
           {
            "colorbar": {
             "outlinewidth": 0,
             "ticks": ""
            },
            "type": "mesh3d"
           }
          ],
          "parcoords": [
           {
            "line": {
             "colorbar": {
              "outlinewidth": 0,
              "ticks": ""
             }
            },
            "type": "parcoords"
           }
          ],
          "pie": [
           {
            "automargin": true,
            "type": "pie"
           }
          ],
          "scatter": [
           {
            "fillpattern": {
             "fillmode": "overlay",
             "size": 10,
             "solidity": 0.2
            },
            "type": "scatter"
           }
          ],
          "scatter3d": [
           {
            "line": {
             "colorbar": {
              "outlinewidth": 0,
              "ticks": ""
             }
            },
            "marker": {
             "colorbar": {
              "outlinewidth": 0,
              "ticks": ""
             }
            },
            "type": "scatter3d"
           }
          ],
          "scattercarpet": [
           {
            "marker": {
             "colorbar": {
              "outlinewidth": 0,
              "ticks": ""
             }
            },
            "type": "scattercarpet"
           }
          ],
          "scattergeo": [
           {
            "marker": {
             "colorbar": {
              "outlinewidth": 0,
              "ticks": ""
             }
            },
            "type": "scattergeo"
           }
          ],
          "scattergl": [
           {
            "marker": {
             "colorbar": {
              "outlinewidth": 0,
              "ticks": ""
             }
            },
            "type": "scattergl"
           }
          ],
          "scattermapbox": [
           {
            "marker": {
             "colorbar": {
              "outlinewidth": 0,
              "ticks": ""
             }
            },
            "type": "scattermapbox"
           }
          ],
          "scatterpolar": [
           {
            "marker": {
             "colorbar": {
              "outlinewidth": 0,
              "ticks": ""
             }
            },
            "type": "scatterpolar"
           }
          ],
          "scatterpolargl": [
           {
            "marker": {
             "colorbar": {
              "outlinewidth": 0,
              "ticks": ""
             }
            },
            "type": "scatterpolargl"
           }
          ],
          "scatterternary": [
           {
            "marker": {
             "colorbar": {
              "outlinewidth": 0,
              "ticks": ""
             }
            },
            "type": "scatterternary"
           }
          ],
          "surface": [
           {
            "colorbar": {
             "outlinewidth": 0,
             "ticks": ""
            },
            "colorscale": [
             [
              0,
              "#0d0887"
             ],
             [
              0.1111111111111111,
              "#46039f"
             ],
             [
              0.2222222222222222,
              "#7201a8"
             ],
             [
              0.3333333333333333,
              "#9c179e"
             ],
             [
              0.4444444444444444,
              "#bd3786"
             ],
             [
              0.5555555555555556,
              "#d8576b"
             ],
             [
              0.6666666666666666,
              "#ed7953"
             ],
             [
              0.7777777777777778,
              "#fb9f3a"
             ],
             [
              0.8888888888888888,
              "#fdca26"
             ],
             [
              1,
              "#f0f921"
             ]
            ],
            "type": "surface"
           }
          ],
          "table": [
           {
            "cells": {
             "fill": {
              "color": "#EBF0F8"
             },
             "line": {
              "color": "white"
             }
            },
            "header": {
             "fill": {
              "color": "#C8D4E3"
             },
             "line": {
              "color": "white"
             }
            },
            "type": "table"
           }
          ]
         },
         "layout": {
          "annotationdefaults": {
           "arrowcolor": "#2a3f5f",
           "arrowhead": 0,
           "arrowwidth": 1
          },
          "autotypenumbers": "strict",
          "coloraxis": {
           "colorbar": {
            "outlinewidth": 0,
            "ticks": ""
           }
          },
          "colorscale": {
           "diverging": [
            [
             0,
             "#8e0152"
            ],
            [
             0.1,
             "#c51b7d"
            ],
            [
             0.2,
             "#de77ae"
            ],
            [
             0.3,
             "#f1b6da"
            ],
            [
             0.4,
             "#fde0ef"
            ],
            [
             0.5,
             "#f7f7f7"
            ],
            [
             0.6,
             "#e6f5d0"
            ],
            [
             0.7,
             "#b8e186"
            ],
            [
             0.8,
             "#7fbc41"
            ],
            [
             0.9,
             "#4d9221"
            ],
            [
             1,
             "#276419"
            ]
           ],
           "sequential": [
            [
             0,
             "#0d0887"
            ],
            [
             0.1111111111111111,
             "#46039f"
            ],
            [
             0.2222222222222222,
             "#7201a8"
            ],
            [
             0.3333333333333333,
             "#9c179e"
            ],
            [
             0.4444444444444444,
             "#bd3786"
            ],
            [
             0.5555555555555556,
             "#d8576b"
            ],
            [
             0.6666666666666666,
             "#ed7953"
            ],
            [
             0.7777777777777778,
             "#fb9f3a"
            ],
            [
             0.8888888888888888,
             "#fdca26"
            ],
            [
             1,
             "#f0f921"
            ]
           ],
           "sequentialminus": [
            [
             0,
             "#0d0887"
            ],
            [
             0.1111111111111111,
             "#46039f"
            ],
            [
             0.2222222222222222,
             "#7201a8"
            ],
            [
             0.3333333333333333,
             "#9c179e"
            ],
            [
             0.4444444444444444,
             "#bd3786"
            ],
            [
             0.5555555555555556,
             "#d8576b"
            ],
            [
             0.6666666666666666,
             "#ed7953"
            ],
            [
             0.7777777777777778,
             "#fb9f3a"
            ],
            [
             0.8888888888888888,
             "#fdca26"
            ],
            [
             1,
             "#f0f921"
            ]
           ]
          },
          "colorway": [
           "#636efa",
           "#EF553B",
           "#00cc96",
           "#ab63fa",
           "#FFA15A",
           "#19d3f3",
           "#FF6692",
           "#B6E880",
           "#FF97FF",
           "#FECB52"
          ],
          "font": {
           "color": "#2a3f5f"
          },
          "geo": {
           "bgcolor": "white",
           "lakecolor": "white",
           "landcolor": "#E5ECF6",
           "showlakes": true,
           "showland": true,
           "subunitcolor": "white"
          },
          "hoverlabel": {
           "align": "left"
          },
          "hovermode": "closest",
          "mapbox": {
           "style": "light"
          },
          "paper_bgcolor": "white",
          "plot_bgcolor": "#E5ECF6",
          "polar": {
           "angularaxis": {
            "gridcolor": "white",
            "linecolor": "white",
            "ticks": ""
           },
           "bgcolor": "#E5ECF6",
           "radialaxis": {
            "gridcolor": "white",
            "linecolor": "white",
            "ticks": ""
           }
          },
          "scene": {
           "xaxis": {
            "backgroundcolor": "#E5ECF6",
            "gridcolor": "white",
            "gridwidth": 2,
            "linecolor": "white",
            "showbackground": true,
            "ticks": "",
            "zerolinecolor": "white"
           },
           "yaxis": {
            "backgroundcolor": "#E5ECF6",
            "gridcolor": "white",
            "gridwidth": 2,
            "linecolor": "white",
            "showbackground": true,
            "ticks": "",
            "zerolinecolor": "white"
           },
           "zaxis": {
            "backgroundcolor": "#E5ECF6",
            "gridcolor": "white",
            "gridwidth": 2,
            "linecolor": "white",
            "showbackground": true,
            "ticks": "",
            "zerolinecolor": "white"
           }
          },
          "shapedefaults": {
           "line": {
            "color": "#2a3f5f"
           }
          },
          "ternary": {
           "aaxis": {
            "gridcolor": "white",
            "linecolor": "white",
            "ticks": ""
           },
           "baxis": {
            "gridcolor": "white",
            "linecolor": "white",
            "ticks": ""
           },
           "bgcolor": "#E5ECF6",
           "caxis": {
            "gridcolor": "white",
            "linecolor": "white",
            "ticks": ""
           }
          },
          "title": {
           "x": 0.05
          },
          "xaxis": {
           "automargin": true,
           "gridcolor": "white",
           "linecolor": "white",
           "ticks": "",
           "title": {
            "standoff": 15
           },
           "zerolinecolor": "white",
           "zerolinewidth": 2
          },
          "yaxis": {
           "automargin": true,
           "gridcolor": "white",
           "linecolor": "white",
           "ticks": "",
           "title": {
            "standoff": 15
           },
           "zerolinecolor": "white",
           "zerolinewidth": 2
          }
         }
        },
        "title": {
         "text": "Network Visualization"
        }
       }
      }
     },
     "metadata": {},
     "output_type": "display_data"
    }
   ],
   "source": [
    "Visualize(g).show_graph()"
   ]
  }
 ],
 "metadata": {
  "kernelspec": {
   "display_name": ".me",
   "language": "python",
   "name": "python3"
  },
  "language_info": {
   "codemirror_mode": {
    "name": "ipython",
    "version": 3
   },
   "file_extension": ".py",
   "mimetype": "text/x-python",
   "name": "python",
   "nbconvert_exporter": "python",
   "pygments_lexer": "ipython3",
   "version": "3.11.2"
  }
 },
 "nbformat": 4,
 "nbformat_minor": 2
}
