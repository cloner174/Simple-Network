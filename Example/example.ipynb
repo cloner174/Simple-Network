{
 "cells": [
  {
   "cell_type": "code",
   "execution_count": null,
   "metadata": {},
   "outputs": [],
   "source": [
    "#                                 #          In the Name of GOD   # #\n",
    "#\n",
    "import numpy as np\n",
    "import scipy.sparse as sp\n",
    "from concurrent.futures import ProcessPoolExecutor\n",
    "\n",
    "class MultilayerNetwork:\n",
    "    \n",
    "    def __init__(self, directed : bool = False, large_graph : bool = False):\n",
    "        \n",
    "        self.directed = directed\n",
    "        self.large_graph = large_graph\n",
    "        self.node_set = set()\n",
    "        self.nodes = {}#                   Nodes by layer\n",
    "        self.edges = {}#                   Adjacency matrices or arrays by layer\n",
    "        self.layers = []#                  List of layer names\n",
    "        self.node_attributes = {}\n",
    "        self.edge_attributes = {}\n",
    "        self.inter_layer_edges = []#       Managing inter-layer edges\n",
    "    \n",
    "    \n",
    "    def add_layer(self, layer_name : str ):\n",
    "        \n",
    "        if layer_name not in self.layers:\n",
    "            \n",
    "            self.layers.append(layer_name)\n",
    "            self.nodes[layer_name] = []\n",
    "            self.edges[layer_name] = []\n",
    "    \n",
    "    \n",
    "    def add_node(self, layer_name : str , node ):\n",
    "        \n",
    "        if layer_name not in self.layers:\n",
    "            self.add_layer(layer_name)\n",
    "        \n",
    "        if node not in self.nodes[layer_name]:\n",
    "            self.nodes[layer_name].append(node)\n",
    "            self.node_set.add(node)\n",
    "            \n",
    "            if self.large_graph:\n",
    "                if layer_name not in self.edges or not isinstance(self.edges[layer_name], sp.lil_matrix):\n",
    "                    self.edges[layer_name] = sp.lil_matrix((1, 1))\n",
    "            else:\n",
    "                if layer_name not in self.edges or not isinstance(self.edges[layer_name], np.ndarray):\n",
    "                    self.edges[layer_name] = np.zeros((1, 1), dtype=int)\n",
    "                \n",
    "                old_matrix = self.edges[layer_name]\n",
    "                new_size = len(self.nodes[layer_name])\n",
    "                new_matrix = np.zeros((new_size, new_size), dtype=int)\n",
    "                new_matrix[:old_matrix.shape[0], :old_matrix.shape[1]] = old_matrix\n",
    "                self.edges[layer_name] = new_matrix\n",
    "    \n",
    "    \n",
    "    def add_edge(self, node1, node2, layer_name1 : str, layer_name2 : str = None, weight : int | float = 1 ):\n",
    "        \n",
    "        if layer_name2 is None or layer_name1 == layer_name2:\n",
    "            \n",
    "            if layer_name1 not in self.layers:\n",
    "                raise ValueError(f\"Layer '{layer_name1}' does not exist.\")\n",
    "            \n",
    "            if node1 not in self.nodes[layer_name1] or node2 not in self.nodes[layer_name1]:\n",
    "                raise ValueError(\"One or both nodes do not exist in the specified layer.\")\n",
    "            \n",
    "            self._ensure_correct_matrix_size(layer_name1, node1, node2)\n",
    "            node1_index = self.nodes[layer_name1].index(node1)\n",
    "            node2_index = self.nodes[layer_name1].index(node2)\n",
    "            \n",
    "            self.edges[layer_name1][node1_index, node2_index] = weight\n",
    "            \n",
    "            if not self.directed:\n",
    "                self.edges[layer_name1][node2_index, node1_index] = weight\n",
    "        \n",
    "        else:\n",
    "            self.add_inter_layer_edge(node1, node2, layer_name1, layer_name2, weight)\n",
    "    \n",
    "    \n",
    "    def add_inter_layer_edge(self, node1, node2, layer_name1 : str , layer_name2 : str , weight : int | float = 1 ):\n",
    "        \n",
    "        if layer_name1 not in self.layers or layer_name2 not in self.layers:\n",
    "            raise ValueError(f\"One or both specified layers ('{layer_name1}', '{layer_name2}') do not exist.\")\n",
    "        \n",
    "        if node1 not in self.nodes.get(layer_name1, []) or node2 not in self.nodes.get(layer_name2, []):\n",
    "            raise ValueError(\"One or both nodes do not exist in their specified layers.\")\n",
    "        \n",
    "        self.inter_layer_edges.append(((node1, layer_name1), (node2, layer_name2), weight))\n",
    "    \n",
    "    \n",
    "    def _ensure_correct_matrix_size(self, layer_name : str , node1, node2):\n",
    "        \n",
    "        node1_index = self.nodes[layer_name].index(node1)\n",
    "        node2_index = self.nodes[layer_name].index(node2)\n",
    "        \n",
    "        if self.large_graph:\n",
    "            self._ensure_matrix_initialized_and_resized(layer_name, node1_index, node2_index)\n",
    "        else:\n",
    "            self._ensure_dense_matrix_resized(layer_name, node1_index, node2_index)\n",
    "    \n",
    "    \n",
    "    def _ensure_matrix_initialized_and_resized(self, layer_name : str , node1_index, node2_index):\n",
    "        \n",
    "        if layer_name not in self.edges or self.edges[layer_name].shape == (0, 0):\n",
    "            self.edges[layer_name] = sp.lil_matrix((1, 1))\n",
    "        \n",
    "        current_matrix = self.edges[layer_name]\n",
    "        max_index = max(node1_index, node2_index) + 1\n",
    "        \n",
    "        if max_index > current_matrix.shape[0]:\n",
    "            new_matrix = sp.lil_matrix((max_index, max_index))\n",
    "            new_matrix[:current_matrix.shape[0], :current_matrix.shape[1]] = current_matrix\n",
    "            self.edges[layer_name] = new_matrix\n",
    "    \n",
    "    \n",
    "    def _ensure_dense_matrix_resized(self, layer_name : str, node1_index, node2_index):\n",
    "        \n",
    "        if layer_name not in self.edges or not len(self.edges[layer_name]):\n",
    "            self.edges[layer_name] = np.zeros((1, 1), dtype=int)\n",
    "        \n",
    "        current_matrix = np.array(self.edges[layer_name])\n",
    "        max_index = max(node1_index, node2_index) + 1\n",
    "        \n",
    "        if max_index > current_matrix.shape[0]:\n",
    "            new_matrix = np.zeros((max_index, max_index), dtype=int)\n",
    "            new_matrix[:current_matrix.shape[0], :current_matrix.shape[1]] = current_matrix\n",
    "            self.edges[layer_name] = new_matrix.tolist() if isinstance(self.edges[layer_name], list) else new_matrix\n",
    "    \n",
    "    \n",
    "    def get_inter_layer_edges(self):\n",
    "        \n",
    "        return self.inter_layer_edges\n",
    "    \n",
    "    \n",
    "    def find_inter_layer_edges(self, node, layer : str = None):\n",
    "        \"\"\"\n",
    "        Find all inter-layer edges connected to a given node, optionally within a specific layer.\n",
    "        \"\"\"\n",
    "        if layer:\n",
    "            return [(n1, l1, n2, l2, w) for (n1, l1, n2, l2, w) in self.inter_layer_edges if (node == n1 and layer == l1) or (node == n2 and layer == l2)]\n",
    "        else:\n",
    "            return [(n1, l1, n2, l2, w) for (n1, l1, n2, l2, w) in self.inter_layer_edges if node == n1 or node == n2]\n",
    "    \n",
    "    \n",
    "    def prepare_for_bulk_update(self, layer_name : str ):\n",
    "        \"\"\"\n",
    "        Prepare or reset the accumulator for a layer.\n",
    "        \"\"\"\n",
    "        self.bulk_updates[layer_name] = {'rows': [], 'cols': [], 'data': []}\n",
    "    \n",
    "    \n",
    "    def accumulate_edge_update(self, node1, node2, layer_name : str, weight=1):\n",
    "        \"\"\"\n",
    "        Accumulate an edge update for later bulk application.\n",
    "        \"\"\"\n",
    "        if layer_name not in self.nodes:\n",
    "            raise ValueError(\"Layer does not exist.\")\n",
    "        if node1 not in self.nodes[layer_name] or node2 not in self.nodes[layer_name]:\n",
    "            raise ValueError(\"One or both nodes do not exist in the specified layer.\")\n",
    "        \n",
    "        node1_index = self.nodes[layer_name].index(node1)\n",
    "        node2_index = self.nodes[layer_name].index(node2)\n",
    "        \n",
    "        self.bulk_updates[layer_name]['rows'].append(node1_index)\n",
    "        self.bulk_updates[layer_name]['cols'].append(node2_index)\n",
    "        self.bulk_updates[layer_name]['data'].append(weight)\n",
    "    \n",
    "    \n",
    "    def update_edge_weight(self, node1, node2, layer_name : str, new_weight : int | float ):\n",
    "        \n",
    "        if layer_name not in self.layers or node1 not in self.nodes[layer_name] or node2 not in self.nodes[layer_name]:\n",
    "            raise ValueError(\"Layer, node1, or node2 does not exist.\")\n",
    "        \n",
    "        node1_index = self.nodes[layer_name].index(node1)\n",
    "        node2_index = self.nodes[layer_name].index(node2)\n",
    "        self.edges[layer_name][node1_index, node2_index] = new_weight\n",
    "        \n",
    "        if not self.directed:\n",
    "            self.edges[layer_name][node2_index, node1_index] = new_weight\n",
    "    \n",
    "    \n",
    "    def apply_bulk_updates(self, layer_name : str ):\n",
    "        \"\"\" \n",
    "        Apply accumulated updates in bulk to the adjacency matrix of a layer. \n",
    "        \"\"\"\n",
    "        if layer_name not in self.bulk_updates:\n",
    "            return  # No updates to apply\n",
    "        \n",
    "        update_data = self.bulk_updates[layer_name]\n",
    "        if self.large_graph:\n",
    "            # for large (sparse) graphs\n",
    "            update_matrix = sp.coo_matrix((update_data['data'], (update_data['rows'], update_data['cols'])),\n",
    "                                        shape=self.edges[layer_name].shape)\n",
    "            self.edges[layer_name] += update_matrix.tocsr()\n",
    "        else:\n",
    "        # for small (dense) graphs\n",
    "            for row, col, data in zip(update_data['rows'], update_data['cols'], update_data['data']):\n",
    "                self.edges[layer_name][row, col] = data\n",
    "                if not self.directed:\n",
    "                    self.edges[layer_name][col, row] = data\n",
    "        \n",
    "        # reset the accumulator for the layer\n",
    "        self.prepare_for_bulk_update(layer_name)\n",
    "    \n",
    "    \n",
    "    def set_node_attribute(self, node, attr_name : str , attr_value : int | float | list ):\n",
    "        \"\"\"\n",
    "        Set or update an attribute for a node.\n",
    "        Args:\n",
    "        node (str or int): The node identifier.\n",
    "        attr_name (str): The name of the attribute.\n",
    "        attr_value (any): The value of the attribute.\n",
    "        \"\"\"\n",
    "        if node not in self.node_set:\n",
    "            raise ValueError(\"Node does not exist.\")\n",
    "        if node not in self.node_attributes:\n",
    "            self.node_attributes[node] = {}\n",
    "        self.node_attributes[node][attr_name] = attr_value\n",
    "    \n",
    "    \n",
    "    def set_edge_attribute(self, node1, node2, layer_name : str, attr_name : str , attr_value : int | float ):\n",
    "        if node1 not in self.node_set or node2 not in self.node_set:\n",
    "            raise ValueError(\"One or both nodes do not exist.\")\n",
    "        if layer_name not in self.layers:\n",
    "            raise ValueError(f\"Layer {layer_name} does not exist.\")\n",
    "        \n",
    "        edge_key = (node1, node2, layer_name) if self.directed else (min(node1, node2), max(node1, node2), layer_name)\n",
    "        \n",
    "        self.edge_attributes[edge_key] = self.edge_attributes.get(edge_key, {})\n",
    "        self.edge_attributes[edge_key][attr_name] = attr_value\n",
    "    \n",
    "    \n",
    "    def calculate_layer_degrees(self, layer_name : str , parallel_threshold=10000):\n",
    "        \n",
    "        if layer_name not in self.layers:\n",
    "            raise ValueError(f\"Layer {layer_name} not found.\")\n",
    "        layer_matrix = self.edges[layer_name]\n",
    "        \n",
    "        node_count = layer_matrix.shape[0] if self.large_graph else len(layer_matrix)\n",
    "        \n",
    "        if self.large_graph and node_count > parallel_threshold:\n",
    "            with ProcessPoolExecutor() as executor:\n",
    "                func_args = [(self.large_graph, layer_matrix, i) for i in range(node_count)]\n",
    "                degrees = list(executor.map(MultilayerNetwork._calculate_degree_of_node, func_args))\n",
    "        else:\n",
    "            degrees = self._calculate_layer_degrees_single_threaded(layer_name)\n",
    "        \n",
    "        return degrees\n",
    "    \n",
    "    \n",
    "    def _calculate_layer_degrees_single_threaded(self, layer_name : str ):\n",
    "        \n",
    "        layer_matrix = self.edges[layer_name]\n",
    "        \n",
    "        if self.large_graph:\n",
    "            \n",
    "            if self.directed:\n",
    "                in_degrees = layer_matrix.sum(axis=0).A1  # Column sum for in-degree\n",
    "                out_degrees = layer_matrix.sum(axis=1).A1  # Row sum for out-degree\n",
    "                return in_degrees, out_degrees\n",
    "            \n",
    "            else:\n",
    "                degrees = layer_matrix.sum(axis=1).A1  # Row sum suffices\n",
    "                return degrees\n",
    "        else:\n",
    "            degrees = np.sum(layer_matrix > 0, axis=1)  # For dense matrices\n",
    "            return degrees\n",
    "    \n",
    "    \n",
    "    @staticmethod\n",
    "    def _calculate_degree_of_node(args):\n",
    "        \n",
    "        large_graph, layer_matrix, node_index = args\n",
    "        \n",
    "        if large_graph:\n",
    "            # In this case layer_matrix is a sparse matrix\n",
    "            row = layer_matrix.getrow(node_index)\n",
    "            return row.getnnz()\n",
    "        \n",
    "        else:\n",
    "            # In this case layer_matrix is a dense numpy array\n",
    "            return np.sum(layer_matrix[node_index] > 0)\n",
    "\n",
    "#end#"
   ]
  },
  {
   "cell_type": "code",
   "execution_count": null,
   "metadata": {},
   "outputs": [],
   "source": [
    "#                                 #          In the Name of GOD   # #\n",
    "#\n",
    "import numpy as np\n",
    "import scipy.sparse as sp\n",
    "from scipy.sparse.csgraph import connected_components, shortest_path, dijkstra\n",
    "from scipy.sparse.linalg import eigs\n",
    "from sklearn.cluster import SpectralClustering\n",
    "from joblib import Parallel, delayed\n",
    "\n",
    "\n",
    "class MNAnalysis:\n",
    "    \n",
    "    def __init__(self, multilayer_network):\n",
    "        \"\"\"\n",
    "        Initialize the analysis class with a MultilayerNetwork instance.\n",
    "        \"\"\"\n",
    "        self.network = multilayer_network\n",
    "    \n",
    "    \n",
    "    def layerwise_degree_distribution(self):\n",
    "        \"\"\"\n",
    "        Calculate the degree distribution for each layer of the network.\n",
    "        \"\"\"\n",
    "        degree_distributions = {}\n",
    "        for layer in self.network.layers:\n",
    "            degrees = self.network.calculate_layer_degrees(layer)\n",
    "            degree_distributions[layer] = np.bincount(degrees) / float(len(degrees))\n",
    "        return degree_distributions\n",
    "    \n",
    "    \n",
    "    def aggregate_network(self):\n",
    "        \"\"\"\n",
    "        Aggregate the multilayer network into a single-layer network.\n",
    "        This method combines all layers into one, summing up the weights of inter-layer edges.\n",
    "        \"\"\"\n",
    "        aggregated_matrix = None\n",
    "        for layer in self.network.layers:\n",
    "            matrix = self.network.edges[layer]\n",
    "            if isinstance(matrix, sp.lil_matrix):\n",
    "                matrix = matrix.tocsr()\n",
    "            if aggregated_matrix is None:\n",
    "                aggregated_matrix = matrix\n",
    "            else:\n",
    "                aggregated_matrix += matrix\n",
    "        return aggregated_matrix\n",
    "    \n",
    "    \n",
    "    def detect_communities(self, layer_name, n_clusters=2):\n",
    "        \"\"\"\n",
    "        Detect communities within a specific layer using spectral clustering.\n",
    "        \"\"\"\n",
    "        if layer_name not in self.network.layers:\n",
    "            raise ValueError(f\"Layer {layer_name} not found. Ensure the layer name is correct.\")\n",
    "        \n",
    "        adjacency_matrix = self.network.edges[layer_name]\n",
    "        if not sp.issparse(adjacency_matrix):\n",
    "            adjacency_matrix = sp.csr_matrix(adjacency_matrix)\n",
    "        \n",
    "        clustering = SpectralClustering(n_clusters=n_clusters, affinity='precomputed', random_state=42)\n",
    "        labels = clustering.fit_predict(adjacency_matrix)\n",
    "        \n",
    "        return labels\n",
    "    \n",
    "    \n",
    "    def calculate_global_efficiency(self, layer_name):\n",
    "        matrix = self.network.edges[layer_name]\n",
    "        if not sp.issparse(matrix):\n",
    "            matrix = sp.csr_matrix(matrix)\n",
    "        \n",
    "        distances = dijkstra(matrix, directed=self.network.directed, unweighted=True)\n",
    "        finite_distances = distances[np.isfinite(distances) & (distances > 0)]\n",
    "        \n",
    "        if finite_distances.size == 0:\n",
    "            return 0  # Return 0 efficiency if there are no valid paths\n",
    "        \n",
    "        efficiency = np.mean(1. / finite_distances)\n",
    "        return efficiency\n",
    "    \n",
    "    \n",
    "    def count_connected_components(self, layer_name):\n",
    "        \"\"\"\n",
    "        Count the number of connected components in a specific layer.\n",
    "        \"\"\"\n",
    "        if layer_name not in self.network.layers:\n",
    "            raise ValueError(f\"Layer {layer_name} not found.\")\n",
    "        \n",
    "        matrix = self.network.edges[layer_name]\n",
    "        if isinstance(matrix, list):\n",
    "            matrix = np.array(matrix)\n",
    "        if not sp.issparse(matrix):\n",
    "            matrix = sp.csr_matrix(matrix)\n",
    "        \n",
    "        n_components, _ = connected_components(csgraph=matrix, directed=self.network.directed, return_labels=True)\n",
    "        return n_components\n",
    "    \n",
    "    \n",
    "    def analyze_dynamic_changes(self, snapshots):\n",
    "        \"\"\"\n",
    "        Analyze dynamic changes in the network over a series of snapshots. Each snapshot is a MultilayerNetwork instance.\n",
    "        Returns a list of changes in global efficiency over time.\n",
    "        \"\"\"\n",
    "        efficiencies = []\n",
    "        for snapshot in snapshots:\n",
    "            efficiency_per_layer = {}\n",
    "            for layer_name in snapshot.layers:\n",
    "                efficiency = self.calculate_global_efficiency(layer_name)\n",
    "                efficiency_per_layer[layer_name] = efficiency\n",
    "            efficiencies.append(efficiency_per_layer)\n",
    "        return efficiencies\n",
    "    \n",
    "    \n",
    "    def explore_inter_layer_connectivity(self):\n",
    "        \"\"\"\n",
    "        Explore and quantify the connectivity patterns between layers.\n",
    "        This method calculates the density of inter-layer edges and the distribution of weights.\n",
    "        \"\"\"\n",
    "        inter_layer_edges = self.network.get_inter_layer_edges()\n",
    "        total_inter_layer_edges = len(inter_layer_edges)\n",
    "        if total_inter_layer_edges == 0:\n",
    "            return {'density': 0, 'weight_distribution': []}\n",
    "        \n",
    "        total_possible_inter_layer_edges = sum(len(self.network.nodes[layer]) for layer in self.network.layers) ** 2\n",
    "        density = total_inter_layer_edges / total_possible_inter_layer_edges\n",
    "        \n",
    "        weights = [weight for _, _, _, _, weight in inter_layer_edges]\n",
    "        weight_distribution = np.histogram(weights, bins=10, density=True)[0]\n",
    "        \n",
    "        return {'density': density, 'weight_distribution': weight_distribution.tolist()}\n",
    "    \n",
    "    \n",
    "    def parallel_betweenness_centrality(self, layer_name):\n",
    "        matrix = self.network.edges[layer_name]\n",
    "        if not isinstance(matrix, sp.csr_matrix):\n",
    "            matrix = sp.csr_matrix(matrix)\n",
    "        n = matrix.shape[0]\n",
    "        \n",
    "        def compute_for_node(start):\n",
    "            _, predecessors = shortest_path(csgraph=matrix, directed=self.network.directed, indices=start, return_predecessors=True)\n",
    "            betweenness = np.zeros(n)\n",
    "            \n",
    "            for end in range(n):\n",
    "                if start == end:\n",
    "                    continue\n",
    "                path = []\n",
    "                intermediate = end\n",
    "                while intermediate != start:\n",
    "                    path.append(intermediate)\n",
    "                    intermediate = predecessors[intermediate]\n",
    "                    if intermediate == -9999:  # Check for unreachable nodes\n",
    "                        path = []\n",
    "                        break\n",
    "                path.reverse()\n",
    "                for node in path[1:-1]:\n",
    "                    betweenness[node] += 1\n",
    "            \n",
    "            return betweenness\n",
    "        \n",
    "        results = Parallel(n_jobs=-1)(delayed(compute_for_node)(i) for i in range(n))\n",
    "        total_betweenness = np.sum(results, axis=0)\n",
    "        total_betweenness /= 2  # to account for each path being counted twice in an undirected graph\n",
    "        return total_betweenness.tolist()\n",
    "    \n",
    "    \n",
    "    def calculate_centrality_measures(self, layer_name, use_weight=False):\n",
    "        \n",
    "        if layer_name not in self.network.layers:\n",
    "            raise ValueError(f\"Layer {layer_name} not found.\")\n",
    "        \n",
    "        matrix = self.network.edges[layer_name]\n",
    "        \n",
    "        if isinstance(matrix, list):\n",
    "            matrix = np.array(matrix)\n",
    "        if not sp.issparse(matrix):\n",
    "            matrix = sp.csr_matrix(matrix)\n",
    "        \n",
    "        # Degree Centrality\n",
    "        if sp.issparse(matrix):\n",
    "            if use_weight:\n",
    "                degree_centrality = matrix.sum(axis=0).A1 / (matrix.shape[0] - 1)\n",
    "            else:\n",
    "                degree_centrality = (matrix != 0).sum(axis=0).A1 / (matrix.shape[0] - 1)\n",
    "        else:\n",
    "            if use_weight:\n",
    "                degree_centrality = matrix.sum(axis=1) / (matrix.shape[0] - 1)\n",
    "            else:\n",
    "                degree_centrality = (matrix != 0).sum(axis=1) / (matrix.shape[0] - 1)\n",
    "        \n",
    "        # Betweenness Centrality\n",
    "        betweenness_centrality = self._calculate_betweenness_centrality(matrix, matrix.shape[0], use_weight)\n",
    "        \n",
    "        # Eigenvector Centrality\n",
    "        eigenvector_centrality = self._calculate_eigenvector_centrality(matrix)\n",
    "        \n",
    "        centralities = {\n",
    "            'degree_centrality': degree_centrality.tolist(),\n",
    "            'betweenness_centrality': betweenness_centrality,\n",
    "            'eigenvector_centrality': eigenvector_centrality\n",
    "        }\n",
    "        \n",
    "        return centralities\n",
    "    \n",
    "    \n",
    "    def calculate_centrality_with_attributes(self, layer_name, attribute_name, use_weight=False):\n",
    "        \n",
    "        if layer_name not in self.network.layers:\n",
    "            raise ValueError(f\"Layer {layer_name} not found.\")\n",
    "        \n",
    "        matrix = self.network.edges[layer_name]\n",
    "        if isinstance(matrix, list):\n",
    "            matrix = np.array(matrix)\n",
    "        if not sp.issparse(matrix):\n",
    "            matrix = sp.csr_matrix(matrix)\n",
    "        \n",
    "        # Retrieve node attributes\n",
    "        attributes = [self.network.node_attributes.get(node, {}).get(attribute_name, 1) for node in self.network.nodes[layer_name]]\n",
    "        \n",
    "        # Adjust matrix for attributes if using weights\n",
    "        if use_weight:\n",
    "            attr_matrix = sp.diags(attributes)\n",
    "            matrix = attr_matrix @ matrix if sp.issparse(matrix) else np.diag(attributes) @ matrix\n",
    "        \n",
    "        # Degree Centrality with attributes\n",
    "        degree_centrality = matrix.sum(axis=0).A1 / (matrix.shape[0] - 1) if sp.issparse(matrix) else matrix.sum(axis=1) / (matrix.shape[0] - 1)\n",
    "        \n",
    "        # Betweenness Centrality with attributes\n",
    "        betweenness_centrality = self._calculate_betweenness_centrality(matrix, matrix.shape[0], use_weight)\n",
    "        \n",
    "        # Eigenvector Centrality with attributes\n",
    "        eigenvector_centrality = self._calculate_eigenvector_centrality(matrix)\n",
    "        \n",
    "        centralities = {\n",
    "            'degree_centrality': degree_centrality.tolist(),\n",
    "            'betweenness_centrality': betweenness_centrality,\n",
    "            'eigenvector_centrality': eigenvector_centrality\n",
    "        }\n",
    "        \n",
    "        return centralities\n",
    "    \n",
    "    \n",
    "    def _calculate_betweenness_centrality(self, matrix, n, use_weight=False):\n",
    "        \"\"\"\n",
    "        Calculate the betweenness centrality for each node in a weighted or unweighted graph.\n",
    "        \"\"\"\n",
    "        if use_weight:\n",
    "            # Use Dijkstra's algorithm for weighted graphs\n",
    "            dist_matrix, predecessors = shortest_path(csgraph=matrix, directed=self.network.directed, return_predecessors=True, unweighted=False)\n",
    "        else:\n",
    "            # Unweighted graph, use faster Floyd-Warshall algorithm\n",
    "            dist_matrix, predecessors = shortest_path(csgraph=matrix, directed=self.network.directed, return_predecessors=True, unweighted=True)\n",
    "        \n",
    "        betweenness = np.zeros(n)\n",
    "        for source in range(n):\n",
    "            for target in range(n):\n",
    "                if source != target:\n",
    "                    # Reconstruct the shortest path from source to target\n",
    "                    path = []\n",
    "                    intermediate = target\n",
    "                    while predecessors[source, intermediate] != -9999:\n",
    "                        path.append(intermediate)\n",
    "                        intermediate = predecessors[source, intermediate]\n",
    "                        if intermediate == source:\n",
    "                            break\n",
    "                    path.append(source)\n",
    "                    path.reverse()\n",
    "\n",
    "                    # Count the betweenness\n",
    "                    for v in path[1:-1]:  # exclude the source and target themselves\n",
    "                        betweenness[v] += 1\n",
    "        \n",
    "        # Normalize the betweenness scores\n",
    "        if not self.network.directed:\n",
    "            betweenness /= 2\n",
    "        return betweenness.tolist()\n",
    "    \n",
    "    \n",
    "    def _calculate_eigenvector_centrality(self, matrix, use_weight=False):\n",
    "        \"\"\"\n",
    "        Calculate eigenvector centrality using the power iteration method.\n",
    "        Handles both sparse and dense matrix formats. Provides an option to consider or ignore edge weights.\n",
    "        \n",
    "        Args:\n",
    "        matrix (np.ndarray or sp.spmatrix): The adjacency matrix of the network.\n",
    "        use_weight (bool): If True, use the edge weights as given; if False, treat the graph as unweighted.\n",
    "        \"\"\"\n",
    "        try:\n",
    "            if not use_weight:\n",
    "                # Convert all non-zero entries to 1 to ignore actual weights\n",
    "                if sp.issparse(matrix):\n",
    "                    matrix = sp.csr_matrix((np.ones_like(matrix.data), matrix.indices, matrix.indptr), shape=matrix.shape)\n",
    "                else:\n",
    "                    matrix = np.where(matrix != 0, 1, 0)\n",
    "            \n",
    "            if sp.issparse(matrix):\n",
    "                matrix = matrix.astype(np.float64)  # Ensure matrix is of floating-point type\n",
    "                eigenvalue, eigenvector = eigs(A=matrix, k=1, which='LR', maxiter=10000, tol=1e-6)\n",
    "            else:\n",
    "                matrix = np.array(matrix, dtype=np.float64)  # Ensure matrix is of floating-point type\n",
    "                eigenvalue, eigenvector = np.linalg.eig(matrix)\n",
    "                largest = np.argmax(eigenvalue)\n",
    "                eigenvector = eigenvector[:, largest]\n",
    "            \n",
    "            eigenvector_centrality = np.abs(np.real(eigenvector)) / np.linalg.norm(np.real(eigenvector), 1)\n",
    "            return eigenvector_centrality.tolist()\n",
    "        \n",
    "        except Exception as e:\n",
    "            error_message = f\"Failed to calculate eigenvector centrality. Ensure the matrix is appropriate for this operation. Error: {e}\"\n",
    "            raise RuntimeError(error_message)\n",
    "\n",
    "#end#"
   ]
  },
  {
   "cell_type": "markdown",
   "metadata": {},
   "source": [
    "**install it if you did not yet!**\n",
    "\n",
    "**!pip install simple-network**"
   ]
  },
  {
   "cell_type": "markdown",
   "metadata": {},
   "source": [
    "**import library :**\n",
    "\n",
    "from simpleN import MultilayerNetwork, Visualize"
   ]
  },
  {
   "cell_type": "code",
   "execution_count": 2,
   "metadata": {},
   "outputs": [],
   "source": [
    "# Create an Object of it :\n",
    "\n",
    "g = MultilayerNetwork()"
   ]
  },
  {
   "cell_type": "code",
   "execution_count": 3,
   "metadata": {},
   "outputs": [],
   "source": [
    "# adding layers !\n",
    "\n",
    "g.add_layer('one')\n",
    "g.add_layer('two')"
   ]
  },
  {
   "cell_type": "code",
   "execution_count": 4,
   "metadata": {},
   "outputs": [],
   "source": [
    "# adding nodes to layer one !\n",
    "\n",
    "for i in range(50):\n",
    "    g.add_node(layer_name='one', node = i)"
   ]
  },
  {
   "cell_type": "code",
   "execution_count": 5,
   "metadata": {},
   "outputs": [],
   "source": [
    "# adding nodes to layer two !\n",
    "\n",
    "for i in range(50, 100):\n",
    "    g.add_node(layer_name='two', node = i)"
   ]
  },
  {
   "cell_type": "code",
   "execution_count": 6,
   "metadata": {},
   "outputs": [],
   "source": [
    "# Add Between layer edges !\n",
    "\n",
    "g.add_edge(node1=5, node2= 80 , layer_name1= 'one', layer_name2='two')\n",
    "\n",
    "g.add_edge(node1=17, node2= 55 , layer_name1= 'one', layer_name2='two')\n",
    "\n",
    "g.add_edge(node1=6, node2= 90 , layer_name1= 'one', layer_name2='two')\n",
    "\n",
    "g.add_edge(node1=47, node2= 52 , layer_name1= 'one', layer_name2='two')\n",
    "\n",
    "g.add_edge(node1=5, node2= 60 , layer_name1= 'one', layer_name2='two')\n",
    "\n",
    "g.add_edge(node1=15, node2= 99 , layer_name1= 'one', layer_name2='two')"
   ]
  },
  {
   "cell_type": "code",
   "execution_count": 7,
   "metadata": {},
   "outputs": [],
   "source": [
    "# Add Inside layer edges !\n",
    "\n",
    "#g.add_edge(node1=6, node2= 27 , layer_name1= 'one')\n",
    "\n",
    "g.add_edge(node1=22, node2= 47 , layer_name1= 'one')\n",
    "\n",
    "g.add_edge(node1=14, node2= 15 , layer_name1= 'one')\n",
    "\n",
    "g.add_edge(node1=71, node2= 90 , layer_name1= 'two')\n",
    "\n",
    "g.add_edge(node1=66, node2= 88 , layer_name1= 'two')"
   ]
  },
  {
   "cell_type": "code",
   "execution_count": null,
   "metadata": {},
   "outputs": [],
   "source": [
    "g.set_node_attribute(node=1, attr_name= 'RG', attr_value= 1.15)\n",
    "\n",
    "\n",
    "\n",
    "\n",
    "g.set_node_attribute(node=6, attr_name= 'RG', attr_value= 11)\n",
    "\n",
    "\n",
    "g.set_node_attribute(node=7, attr_name= 'RG', attr_value= 1.2)\n",
    "\n",
    "g.set_node_attribute(node=5, attr_name= 'RG', attr_value= 1.15)\n",
    "g.set_node_attribute(node=70, attr_name= 'RG', attr_value=1.5)\n",
    "g.set_node_attribute(node=80, attr_name= 'RG', attr_value=2.2)\n",
    "g.set_node_attribute(node=47, attr_name= 'RG', attr_value= 2)\n",
    "g.set_node_attribute(node=52, attr_name= 'RG', attr_value=1.5)\n",
    "\n",
    "g.set_node_attribute(node=11, attr_name= 'PP', attr_value= 1.15)\n",
    "\n",
    "\n",
    "g.set_node_attribute(node=90, attr_name= 'PP', attr_value= 4.9)\n",
    "\n",
    "g.set_node_attribute(node=88, attr_name= 'RG', attr_value= 22)\n",
    "g.set_node_attribute(node=27, attr_name= 'RG', attr_value= 21.22)\n",
    "g.set_node_attribute(node=87, attr_name= 'PP', attr_value= 1.2)\n",
    "g.set_node_attribute(node=66, attr_name= 'RG', attr_value= 22)\n",
    "g.set_node_attribute(node=86, attr_name= 'PP', attr_value=1.5)"
   ]
  },
  {
   "cell_type": "code",
   "execution_count": 8,
   "metadata": {},
   "outputs": [],
   "source": [
    "# adj_matrix = g.edges"
   ]
  },
  {
   "cell_type": "code",
   "execution_count": 12,
   "metadata": {},
   "outputs": [
    {
     "data": {
      "application/vnd.plotly.v1+json": {
       "config": {
        "plotlyServerURL": "https://plot.ly"
       },
       "data": [
        {
         "hoverinfo": "none",
         "line": {
          "color": "grey",
          "width": 1
         },
         "mode": "lines",
         "type": "scatter3d",
         "x": [
          0.22361693393557458,
          0.9377750924059792,
          null,
          0.6439962626323921,
          0.4064196898639927,
          null,
          0.4064196898639927,
          0.6439962626323921,
          null,
          0.8653125263905412,
          0.014434612037132033,
          null,
          0.9377750924059792,
          0.22361693393557458,
          null,
          0.014434612037132033,
          0.8653125263905412,
          null,
          0.7700218067932081,
          0.4948311403253861,
          null,
          0.8413976414936968,
          0.7387712777588856,
          null,
          0.7387712777588856,
          0.8413976414936968,
          null,
          0.4948311403253861,
          0.7700218067932081,
          null,
          0.2259771242293197,
          0.4278097629147466,
          null,
          0.1342932326247619,
          0.013494275793133115,
          null,
          0.22361693393557458,
          0.7387712777588856,
          null,
          0.014434612037132033,
          0.33477160716370513,
          null,
          0.2259771242293197,
          0.007772509304534991,
          null,
          0.4064196898639927,
          0.4948311403253861,
          null
         ],
         "y": [
          0.48361440840651393,
          0.1991091212827607,
          null,
          0.2214087119017717,
          0.8537901470880026,
          null,
          0.8537901470880026,
          0.2214087119017717,
          null,
          0.8399562729641374,
          0.6320614698907957,
          null,
          0.1991091212827607,
          0.48361440840651393,
          null,
          0.6320614698907957,
          0.8399562729641374,
          null,
          0.7121255801667964,
          0.4873454276443161,
          null,
          0.08165735487823944,
          0.686624644085622,
          null,
          0.686624644085622,
          0.08165735487823944,
          null,
          0.4873454276443161,
          0.7121255801667964,
          null,
          0.6916069574260876,
          0.8272985600058759,
          null,
          0.07718756201477284,
          0.21498479056766495,
          null,
          0.48361440840651393,
          0.686624644085622,
          null,
          0.6320614698907957,
          0.39645309824887365,
          null,
          0.6916069574260876,
          0.7931945974781575,
          null,
          0.8537901470880026,
          0.4873454276443161,
          null
         ],
         "z": [
          0,
          0,
          null,
          0,
          0,
          null,
          0,
          0,
          null,
          0,
          0,
          null,
          0,
          0,
          null,
          0,
          0,
          null,
          2,
          2,
          null,
          2,
          2,
          null,
          2,
          2,
          null,
          2,
          2,
          null,
          0,
          2,
          null,
          0,
          2,
          null,
          0,
          2,
          null,
          0,
          2,
          null,
          0,
          2,
          null,
          0,
          2,
          null
         ]
        },
        {
         "marker": {
          "color": [
           0,
           0,
           0,
           0,
           0,
           0,
           0,
           0,
           0,
           0,
           0,
           0,
           0,
           0,
           0,
           0,
           0,
           0,
           0,
           0,
           0,
           0,
           0,
           0,
           0,
           0,
           0,
           0,
           0,
           0,
           0,
           0,
           0,
           0,
           0,
           0,
           0,
           0,
           0,
           0,
           0,
           0,
           0,
           0,
           0,
           0,
           0,
           0,
           0,
           0,
           2,
           2,
           2,
           2,
           2,
           2,
           2,
           2,
           2,
           2,
           2,
           2,
           2,
           2,
           2,
           2,
           2,
           2,
           2,
           2,
           2,
           2,
           2,
           2,
           2,
           2,
           2,
           2,
           2,
           2,
           2,
           2,
           2,
           2,
           2,
           2,
           2,
           2,
           2,
           2,
           2,
           2,
           2,
           2,
           2,
           2,
           2,
           2,
           2,
           2
          ],
          "colorscale": [
           [
            0,
            "#440154"
           ],
           [
            0.1111111111111111,
            "#482878"
           ],
           [
            0.2222222222222222,
            "#3e4989"
           ],
           [
            0.3333333333333333,
            "#31688e"
           ],
           [
            0.4444444444444444,
            "#26828e"
           ],
           [
            0.5555555555555556,
            "#1f9e89"
           ],
           [
            0.6666666666666666,
            "#35b779"
           ],
           [
            0.7777777777777778,
            "#6ece58"
           ],
           [
            0.8888888888888888,
            "#b5de2b"
           ],
           [
            1,
            "#fde725"
           ]
          ],
          "size": 5
         },
         "mode": "markers",
         "text": [
          "0 (one)",
          "1 (one)",
          "2 (one)",
          "3 (one)",
          "4 (one)",
          "5 (one)",
          "6 (one)",
          "7 (one)",
          "8 (one)",
          "9 (one)",
          "10 (one)",
          "11 (one)",
          "12 (one)",
          "13 (one)",
          "14 (one)",
          "15 (one)",
          "16 (one)",
          "17 (one)",
          "18 (one)",
          "19 (one)",
          "20 (one)",
          "21 (one)",
          "22 (one)",
          "23 (one)",
          "24 (one)",
          "25 (one)",
          "26 (one)",
          "27 (one)",
          "28 (one)",
          "29 (one)",
          "30 (one)",
          "31 (one)",
          "32 (one)",
          "33 (one)",
          "34 (one)",
          "35 (one)",
          "36 (one)",
          "37 (one)",
          "38 (one)",
          "39 (one)",
          "40 (one)",
          "41 (one)",
          "42 (one)",
          "43 (one)",
          "44 (one)",
          "45 (one)",
          "46 (one)",
          "47 (one)",
          "48 (one)",
          "49 (one)",
          "50 (two)",
          "51 (two)",
          "52 (two)",
          "53 (two)",
          "54 (two)",
          "55 (two)",
          "56 (two)",
          "57 (two)",
          "58 (two)",
          "59 (two)",
          "60 (two)",
          "61 (two)",
          "62 (two)",
          "63 (two)",
          "64 (two)",
          "65 (two)",
          "66 (two)",
          "67 (two)",
          "68 (two)",
          "69 (two)",
          "70 (two)",
          "71 (two)",
          "72 (two)",
          "73 (two)",
          "74 (two)",
          "75 (two)",
          "76 (two)",
          "77 (two)",
          "78 (two)",
          "79 (two)",
          "80 (two)",
          "81 (two)",
          "82 (two)",
          "83 (two)",
          "84 (two)",
          "85 (two)",
          "86 (two)",
          "87 (two)",
          "88 (two)",
          "89 (two)",
          "90 (two)",
          "91 (two)",
          "92 (two)",
          "93 (two)",
          "94 (two)",
          "95 (two)",
          "96 (two)",
          "97 (two)",
          "98 (two)",
          "99 (two)"
         ],
         "type": "scatter3d",
         "x": [
          0.6187245796933203,
          0.6720657061872028,
          0.4939885010742484,
          0.287179311252476,
          0.5992465826694628,
          0.2259771242293197,
          0.22361693393557458,
          0.2740053013974212,
          0.7681709258923217,
          0.6384613665923982,
          0.8498346974962329,
          0.7429831626796869,
          0.024145716094222225,
          0.10547183563148832,
          0.6439962626323921,
          0.4064196898639927,
          0.6572520373567814,
          0.1342932326247619,
          0.995915871024235,
          0.7353620979286897,
          0.5290965981721347,
          0.6976430347947794,
          0.8653125263905412,
          0.07253770468861176,
          0.29272735257256943,
          0.780452786609362,
          0.5293821833494367,
          0.9377750924059792,
          0.6190068344432711,
          0.3156162935814506,
          0.7713244244263239,
          0.7805973843402462,
          0.2009072916460044,
          0.7675836646515529,
          0.5577365893998492,
          0.8826276663292392,
          0.007237265016792449,
          0.3170001937763899,
          0.19157672489153765,
          0.46819442923044896,
          0.12930966017642032,
          0.7237094957600192,
          0.21281493704047882,
          0.19701817191594118,
          0.6517378240873785,
          0.055282681765934094,
          0.492784577316159,
          0.014434612037132033,
          0.8412559475553611,
          0.4384166820613947,
          0.18159694359446532,
          0.6863376133878655,
          0.33477160716370513,
          0.9824029326134699,
          0.8602000062150306,
          0.013494275793133115,
          0.6605372240241788,
          0.6608279075507731,
          0.37253701742642786,
          0.07481438950576058,
          0.007772509304534991,
          0.9332371627680546,
          0.6156880656617865,
          0.272299708370602,
          0.2067756206705872,
          0.7129096575404665,
          0.7700218067932081,
          0.8353975315947665,
          0.0026071590402690914,
          0.8172824872967639,
          0.4131514921265519,
          0.8413976414936968,
          0.16102672655153705,
          0.43675206149513834,
          0.6249209290967839,
          0.4964017419877086,
          0.6098042754195189,
          0.6610002531758227,
          0.4826254000793787,
          0.31372730721311315,
          0.4278097629147466,
          0.7215843944375127,
          0.3792899089221117,
          0.7541638686716872,
          0.5993171694524758,
          0.3190331070128568,
          0.5255285913470968,
          0.8279820024828517,
          0.5578837159593191,
          0.04552294135750101,
          0.7387712777588856,
          0.653068704417033,
          0.639297783103659,
          0.34201930155929305,
          0.5844982859757408,
          0.5712327739544246,
          0.8186171084416435,
          0.03528957241152286,
          0.2715351104862399,
          0.4948311403253861
         ],
         "y": [
          0.2688484037546185,
          0.04525979184405493,
          0.5102092335534686,
          0.8701875406835258,
          0.6783261082982217,
          0.6916069574260876,
          0.48361440840651393,
          0.32520978952007573,
          0.26604812180550186,
          0.801505495876293,
          0.6079550409107802,
          0.9239900674796495,
          0.4917530106983651,
          0.07355091698165805,
          0.2214087119017717,
          0.8537901470880026,
          0.25954082937159084,
          0.07718756201477284,
          0.7073946837546469,
          0.6208869048502029,
          0.8897026786296276,
          0.6723045057580282,
          0.8399562729641374,
          0.7707120010611369,
          0.5023255761414886,
          0.7882623482520313,
          0.4126743382614001,
          0.1991091212827607,
          0.4436372580040474,
          0.45539106856412315,
          0.864819570462432,
          0.6269930537278106,
          0.400173103564478,
          0.6169183547417535,
          0.678411271353105,
          0.12197016694150287,
          0.3928744859935004,
          0.35321819988282477,
          0.5854451618858376,
          0.564840159442647,
          0.5896403799805136,
          0.038247833950711296,
          0.6161388802097951,
          0.9321549431251513,
          0.15459097911292852,
          0.9772763051460801,
          0.8426567066544449,
          0.6320614698907957,
          0.7837075507939908,
          0.7085563731060022,
          0.6571612889797558,
          0.8144245337891199,
          0.39645309824887365,
          0.8447574867427089,
          0.30979496885384084,
          0.21498479056766495,
          0.2700072335835402,
          0.6895716361371769,
          0.21909465914067827,
          0.6026454561868808,
          0.7931945974781575,
          0.40194072601857866,
          0.34635674177553766,
          0.6849357270336514,
          0.6493319052076149,
          0.5157155411418732,
          0.7121255801667964,
          0.751001462332626,
          0.042464041396880536,
          0.7456090849539705,
          0.7228696906851447,
          0.08165735487823944,
          0.7659760357255734,
          0.8467569661079849,
          0.880951798242548,
          0.16118555021312908,
          0.6595581013013574,
          0.018619758240065343,
          0.19218847443329834,
          0.05572573715314966,
          0.8272985600058759,
          0.7988619400314186,
          0.5435423681548986,
          0.7976613019872036,
          0.1879153747284652,
          0.09457835271474369,
          0.09674124133649165,
          0.355772856952302,
          0.2570143249625636,
          0.41455791615604476,
          0.686624644085622,
          0.38958898829895416,
          0.7816385880692294,
          0.4096383425068264,
          0.530730711129252,
          0.24890933074650967,
          0.7736777093602935,
          0.7396819215492041,
          0.1101324809962897,
          0.4873454276443161
         ],
         "z": [
          0,
          0,
          0,
          0,
          0,
          0,
          0,
          0,
          0,
          0,
          0,
          0,
          0,
          0,
          0,
          0,
          0,
          0,
          0,
          0,
          0,
          0,
          0,
          0,
          0,
          0,
          0,
          0,
          0,
          0,
          0,
          0,
          0,
          0,
          0,
          0,
          0,
          0,
          0,
          0,
          0,
          0,
          0,
          0,
          0,
          0,
          0,
          0,
          0,
          0,
          2,
          2,
          2,
          2,
          2,
          2,
          2,
          2,
          2,
          2,
          2,
          2,
          2,
          2,
          2,
          2,
          2,
          2,
          2,
          2,
          2,
          2,
          2,
          2,
          2,
          2,
          2,
          2,
          2,
          2,
          2,
          2,
          2,
          2,
          2,
          2,
          2,
          2,
          2,
          2,
          2,
          2,
          2,
          2,
          2,
          2,
          2,
          2,
          2,
          2
         ]
        }
       ],
       "layout": {
        "scene": {
         "xaxis": {
          "showgrid": false,
          "showticklabels": false,
          "zeroline": false
         },
         "yaxis": {
          "showgrid": false,
          "showticklabels": false,
          "zeroline": false
         },
         "zaxis": {
          "showgrid": false,
          "showticklabels": false,
          "zeroline": false
         }
        },
        "showlegend": false,
        "template": {
         "data": {
          "bar": [
           {
            "error_x": {
             "color": "#2a3f5f"
            },
            "error_y": {
             "color": "#2a3f5f"
            },
            "marker": {
             "line": {
              "color": "#E5ECF6",
              "width": 0.5
             },
             "pattern": {
              "fillmode": "overlay",
              "size": 10,
              "solidity": 0.2
             }
            },
            "type": "bar"
           }
          ],
          "barpolar": [
           {
            "marker": {
             "line": {
              "color": "#E5ECF6",
              "width": 0.5
             },
             "pattern": {
              "fillmode": "overlay",
              "size": 10,
              "solidity": 0.2
             }
            },
            "type": "barpolar"
           }
          ],
          "carpet": [
           {
            "aaxis": {
             "endlinecolor": "#2a3f5f",
             "gridcolor": "white",
             "linecolor": "white",
             "minorgridcolor": "white",
             "startlinecolor": "#2a3f5f"
            },
            "baxis": {
             "endlinecolor": "#2a3f5f",
             "gridcolor": "white",
             "linecolor": "white",
             "minorgridcolor": "white",
             "startlinecolor": "#2a3f5f"
            },
            "type": "carpet"
           }
          ],
          "choropleth": [
           {
            "colorbar": {
             "outlinewidth": 0,
             "ticks": ""
            },
            "type": "choropleth"
           }
          ],
          "contour": [
           {
            "colorbar": {
             "outlinewidth": 0,
             "ticks": ""
            },
            "colorscale": [
             [
              0,
              "#0d0887"
             ],
             [
              0.1111111111111111,
              "#46039f"
             ],
             [
              0.2222222222222222,
              "#7201a8"
             ],
             [
              0.3333333333333333,
              "#9c179e"
             ],
             [
              0.4444444444444444,
              "#bd3786"
             ],
             [
              0.5555555555555556,
              "#d8576b"
             ],
             [
              0.6666666666666666,
              "#ed7953"
             ],
             [
              0.7777777777777778,
              "#fb9f3a"
             ],
             [
              0.8888888888888888,
              "#fdca26"
             ],
             [
              1,
              "#f0f921"
             ]
            ],
            "type": "contour"
           }
          ],
          "contourcarpet": [
           {
            "colorbar": {
             "outlinewidth": 0,
             "ticks": ""
            },
            "type": "contourcarpet"
           }
          ],
          "heatmap": [
           {
            "colorbar": {
             "outlinewidth": 0,
             "ticks": ""
            },
            "colorscale": [
             [
              0,
              "#0d0887"
             ],
             [
              0.1111111111111111,
              "#46039f"
             ],
             [
              0.2222222222222222,
              "#7201a8"
             ],
             [
              0.3333333333333333,
              "#9c179e"
             ],
             [
              0.4444444444444444,
              "#bd3786"
             ],
             [
              0.5555555555555556,
              "#d8576b"
             ],
             [
              0.6666666666666666,
              "#ed7953"
             ],
             [
              0.7777777777777778,
              "#fb9f3a"
             ],
             [
              0.8888888888888888,
              "#fdca26"
             ],
             [
              1,
              "#f0f921"
             ]
            ],
            "type": "heatmap"
           }
          ],
          "heatmapgl": [
           {
            "colorbar": {
             "outlinewidth": 0,
             "ticks": ""
            },
            "colorscale": [
             [
              0,
              "#0d0887"
             ],
             [
              0.1111111111111111,
              "#46039f"
             ],
             [
              0.2222222222222222,
              "#7201a8"
             ],
             [
              0.3333333333333333,
              "#9c179e"
             ],
             [
              0.4444444444444444,
              "#bd3786"
             ],
             [
              0.5555555555555556,
              "#d8576b"
             ],
             [
              0.6666666666666666,
              "#ed7953"
             ],
             [
              0.7777777777777778,
              "#fb9f3a"
             ],
             [
              0.8888888888888888,
              "#fdca26"
             ],
             [
              1,
              "#f0f921"
             ]
            ],
            "type": "heatmapgl"
           }
          ],
          "histogram": [
           {
            "marker": {
             "pattern": {
              "fillmode": "overlay",
              "size": 10,
              "solidity": 0.2
             }
            },
            "type": "histogram"
           }
          ],
          "histogram2d": [
           {
            "colorbar": {
             "outlinewidth": 0,
             "ticks": ""
            },
            "colorscale": [
             [
              0,
              "#0d0887"
             ],
             [
              0.1111111111111111,
              "#46039f"
             ],
             [
              0.2222222222222222,
              "#7201a8"
             ],
             [
              0.3333333333333333,
              "#9c179e"
             ],
             [
              0.4444444444444444,
              "#bd3786"
             ],
             [
              0.5555555555555556,
              "#d8576b"
             ],
             [
              0.6666666666666666,
              "#ed7953"
             ],
             [
              0.7777777777777778,
              "#fb9f3a"
             ],
             [
              0.8888888888888888,
              "#fdca26"
             ],
             [
              1,
              "#f0f921"
             ]
            ],
            "type": "histogram2d"
           }
          ],
          "histogram2dcontour": [
           {
            "colorbar": {
             "outlinewidth": 0,
             "ticks": ""
            },
            "colorscale": [
             [
              0,
              "#0d0887"
             ],
             [
              0.1111111111111111,
              "#46039f"
             ],
             [
              0.2222222222222222,
              "#7201a8"
             ],
             [
              0.3333333333333333,
              "#9c179e"
             ],
             [
              0.4444444444444444,
              "#bd3786"
             ],
             [
              0.5555555555555556,
              "#d8576b"
             ],
             [
              0.6666666666666666,
              "#ed7953"
             ],
             [
              0.7777777777777778,
              "#fb9f3a"
             ],
             [
              0.8888888888888888,
              "#fdca26"
             ],
             [
              1,
              "#f0f921"
             ]
            ],
            "type": "histogram2dcontour"
           }
          ],
          "mesh3d": [
           {
            "colorbar": {
             "outlinewidth": 0,
             "ticks": ""
            },
            "type": "mesh3d"
           }
          ],
          "parcoords": [
           {
            "line": {
             "colorbar": {
              "outlinewidth": 0,
              "ticks": ""
             }
            },
            "type": "parcoords"
           }
          ],
          "pie": [
           {
            "automargin": true,
            "type": "pie"
           }
          ],
          "scatter": [
           {
            "fillpattern": {
             "fillmode": "overlay",
             "size": 10,
             "solidity": 0.2
            },
            "type": "scatter"
           }
          ],
          "scatter3d": [
           {
            "line": {
             "colorbar": {
              "outlinewidth": 0,
              "ticks": ""
             }
            },
            "marker": {
             "colorbar": {
              "outlinewidth": 0,
              "ticks": ""
             }
            },
            "type": "scatter3d"
           }
          ],
          "scattercarpet": [
           {
            "marker": {
             "colorbar": {
              "outlinewidth": 0,
              "ticks": ""
             }
            },
            "type": "scattercarpet"
           }
          ],
          "scattergeo": [
           {
            "marker": {
             "colorbar": {
              "outlinewidth": 0,
              "ticks": ""
             }
            },
            "type": "scattergeo"
           }
          ],
          "scattergl": [
           {
            "marker": {
             "colorbar": {
              "outlinewidth": 0,
              "ticks": ""
             }
            },
            "type": "scattergl"
           }
          ],
          "scattermapbox": [
           {
            "marker": {
             "colorbar": {
              "outlinewidth": 0,
              "ticks": ""
             }
            },
            "type": "scattermapbox"
           }
          ],
          "scatterpolar": [
           {
            "marker": {
             "colorbar": {
              "outlinewidth": 0,
              "ticks": ""
             }
            },
            "type": "scatterpolar"
           }
          ],
          "scatterpolargl": [
           {
            "marker": {
             "colorbar": {
              "outlinewidth": 0,
              "ticks": ""
             }
            },
            "type": "scatterpolargl"
           }
          ],
          "scatterternary": [
           {
            "marker": {
             "colorbar": {
              "outlinewidth": 0,
              "ticks": ""
             }
            },
            "type": "scatterternary"
           }
          ],
          "surface": [
           {
            "colorbar": {
             "outlinewidth": 0,
             "ticks": ""
            },
            "colorscale": [
             [
              0,
              "#0d0887"
             ],
             [
              0.1111111111111111,
              "#46039f"
             ],
             [
              0.2222222222222222,
              "#7201a8"
             ],
             [
              0.3333333333333333,
              "#9c179e"
             ],
             [
              0.4444444444444444,
              "#bd3786"
             ],
             [
              0.5555555555555556,
              "#d8576b"
             ],
             [
              0.6666666666666666,
              "#ed7953"
             ],
             [
              0.7777777777777778,
              "#fb9f3a"
             ],
             [
              0.8888888888888888,
              "#fdca26"
             ],
             [
              1,
              "#f0f921"
             ]
            ],
            "type": "surface"
           }
          ],
          "table": [
           {
            "cells": {
             "fill": {
              "color": "#EBF0F8"
             },
             "line": {
              "color": "white"
             }
            },
            "header": {
             "fill": {
              "color": "#C8D4E3"
             },
             "line": {
              "color": "white"
             }
            },
            "type": "table"
           }
          ]
         },
         "layout": {
          "annotationdefaults": {
           "arrowcolor": "#2a3f5f",
           "arrowhead": 0,
           "arrowwidth": 1
          },
          "autotypenumbers": "strict",
          "coloraxis": {
           "colorbar": {
            "outlinewidth": 0,
            "ticks": ""
           }
          },
          "colorscale": {
           "diverging": [
            [
             0,
             "#8e0152"
            ],
            [
             0.1,
             "#c51b7d"
            ],
            [
             0.2,
             "#de77ae"
            ],
            [
             0.3,
             "#f1b6da"
            ],
            [
             0.4,
             "#fde0ef"
            ],
            [
             0.5,
             "#f7f7f7"
            ],
            [
             0.6,
             "#e6f5d0"
            ],
            [
             0.7,
             "#b8e186"
            ],
            [
             0.8,
             "#7fbc41"
            ],
            [
             0.9,
             "#4d9221"
            ],
            [
             1,
             "#276419"
            ]
           ],
           "sequential": [
            [
             0,
             "#0d0887"
            ],
            [
             0.1111111111111111,
             "#46039f"
            ],
            [
             0.2222222222222222,
             "#7201a8"
            ],
            [
             0.3333333333333333,
             "#9c179e"
            ],
            [
             0.4444444444444444,
             "#bd3786"
            ],
            [
             0.5555555555555556,
             "#d8576b"
            ],
            [
             0.6666666666666666,
             "#ed7953"
            ],
            [
             0.7777777777777778,
             "#fb9f3a"
            ],
            [
             0.8888888888888888,
             "#fdca26"
            ],
            [
             1,
             "#f0f921"
            ]
           ],
           "sequentialminus": [
            [
             0,
             "#0d0887"
            ],
            [
             0.1111111111111111,
             "#46039f"
            ],
            [
             0.2222222222222222,
             "#7201a8"
            ],
            [
             0.3333333333333333,
             "#9c179e"
            ],
            [
             0.4444444444444444,
             "#bd3786"
            ],
            [
             0.5555555555555556,
             "#d8576b"
            ],
            [
             0.6666666666666666,
             "#ed7953"
            ],
            [
             0.7777777777777778,
             "#fb9f3a"
            ],
            [
             0.8888888888888888,
             "#fdca26"
            ],
            [
             1,
             "#f0f921"
            ]
           ]
          },
          "colorway": [
           "#636efa",
           "#EF553B",
           "#00cc96",
           "#ab63fa",
           "#FFA15A",
           "#19d3f3",
           "#FF6692",
           "#B6E880",
           "#FF97FF",
           "#FECB52"
          ],
          "font": {
           "color": "#2a3f5f"
          },
          "geo": {
           "bgcolor": "white",
           "lakecolor": "white",
           "landcolor": "#E5ECF6",
           "showlakes": true,
           "showland": true,
           "subunitcolor": "white"
          },
          "hoverlabel": {
           "align": "left"
          },
          "hovermode": "closest",
          "mapbox": {
           "style": "light"
          },
          "paper_bgcolor": "white",
          "plot_bgcolor": "#E5ECF6",
          "polar": {
           "angularaxis": {
            "gridcolor": "white",
            "linecolor": "white",
            "ticks": ""
           },
           "bgcolor": "#E5ECF6",
           "radialaxis": {
            "gridcolor": "white",
            "linecolor": "white",
            "ticks": ""
           }
          },
          "scene": {
           "xaxis": {
            "backgroundcolor": "#E5ECF6",
            "gridcolor": "white",
            "gridwidth": 2,
            "linecolor": "white",
            "showbackground": true,
            "ticks": "",
            "zerolinecolor": "white"
           },
           "yaxis": {
            "backgroundcolor": "#E5ECF6",
            "gridcolor": "white",
            "gridwidth": 2,
            "linecolor": "white",
            "showbackground": true,
            "ticks": "",
            "zerolinecolor": "white"
           },
           "zaxis": {
            "backgroundcolor": "#E5ECF6",
            "gridcolor": "white",
            "gridwidth": 2,
            "linecolor": "white",
            "showbackground": true,
            "ticks": "",
            "zerolinecolor": "white"
           }
          },
          "shapedefaults": {
           "line": {
            "color": "#2a3f5f"
           }
          },
          "ternary": {
           "aaxis": {
            "gridcolor": "white",
            "linecolor": "white",
            "ticks": ""
           },
           "baxis": {
            "gridcolor": "white",
            "linecolor": "white",
            "ticks": ""
           },
           "bgcolor": "#E5ECF6",
           "caxis": {
            "gridcolor": "white",
            "linecolor": "white",
            "ticks": ""
           }
          },
          "title": {
           "x": 0.05
          },
          "xaxis": {
           "automargin": true,
           "gridcolor": "white",
           "linecolor": "white",
           "ticks": "",
           "title": {
            "standoff": 15
           },
           "zerolinecolor": "white",
           "zerolinewidth": 2
          },
          "yaxis": {
           "automargin": true,
           "gridcolor": "white",
           "linecolor": "white",
           "ticks": "",
           "title": {
            "standoff": 15
           },
           "zerolinecolor": "white",
           "zerolinewidth": 2
          }
         }
        },
        "title": {
         "text": "Network Visualization"
        }
       }
      }
     },
     "metadata": {},
     "output_type": "display_data"
    }
   ],
   "source": [
    "Visualize(g).show_graph()"
   ]
  },
  {
   "cell_type": "code",
   "execution_count": null,
   "metadata": {},
   "outputs": [],
   "source": [
    "import torch\n",
    "import torch.nn as nn\n",
    "from torch.utils.data import DataLoader, Dataset\n",
    "import numpy as np\n",
    "\n",
    "class MultilayerNetworkDataset(Dataset):\n",
    "    \"\"\"\n",
    "    A PyTorch Dataset class to handle node features and labels for the MultilayerNetwork.\n",
    "    \"\"\"\n",
    "    def __init__(self, features, labels):\n",
    "        self.features = torch.tensor(features, dtype=torch.float32)  # Features should already be processed\n",
    "        self.labels = torch.tensor(labels, dtype=torch.float32)  # Assuming labels are already processed\n",
    "\n",
    "    def __len__(self):\n",
    "        return len(self.features)\n",
    "\n",
    "    def __getitem__(self, idx):\n",
    "        return self.features[idx], self.labels[idx]\n",
    "\n",
    "class LearnableNetwork:\n",
    "    def __init__(self, multilayer_network, model=None):\n",
    "        \"\"\"\n",
    "        Initialize LearnableNetwork with a reference to an existing multilayer network instance.\n",
    "        Allows for a custom model to be passed or uses a simple default model.\n",
    "        \"\"\"\n",
    "        self.network = multilayer_network\n",
    "        if model is None:\n",
    "            # Use a default simple model if none provided\n",
    "            feature_size = len(next(iter(multilayer_network.node_attributes.values())))\n",
    "            output_size = len(multilayer_network.node_set)\n",
    "            self.model = nn.Sequential(\n",
    "                nn.Linear(feature_size, 128),\n",
    "                nn.ReLU(),\n",
    "                nn.Linear(128, 64),\n",
    "                nn.ReLU(),\n",
    "                nn.Linear(64, output_size),\n",
    "                nn.Sigmoid()\n",
    "            )\n",
    "        else:\n",
    "            self.model = model\n",
    "\n",
    "    def extract_features(self):\n",
    "        \"\"\"\n",
    "        Feature extraction from multilayer network for learning.\n",
    "        Returns features and labels suitable for training.\n",
    "        \"\"\"\n",
    "        features = []\n",
    "        labels = []\n",
    "        for node in self.network.node_set:\n",
    "            node_features = list(self.network.node_attributes[node].values())\n",
    "            node_labels = [1 if other in self.network.edges[self.network.layers[0]][node] else 0\n",
    "                           for other in self.network.node_set]\n",
    "            features.append(node_features)\n",
    "            labels.append(node_labels)\n",
    "\n",
    "        return features, labels\n",
    "\n",
    "    def train(self, features, labels, epochs=10, batch_size=32, lr=0.01):\n",
    "        \"\"\"\n",
    "        Train the model using the provided features and labels.\n",
    "        \"\"\"\n",
    "        dataset = MultilayerNetworkDataset(features, labels)\n",
    "        dataloader = DataLoader(dataset, batch_size=batch_size, shuffle=True)\n",
    "        optimizer = torch.optim.Adam(self.model.parameters(), lr=lr)\n",
    "        criterion = nn.BCELoss()\n",
    "\n",
    "        self.model.train()\n",
    "        for epoch in range(epochs):\n",
    "            for features, labels in dataloader:\n",
    "                optimizer.zero_grad()\n",
    "                outputs = self.model(features)\n",
    "                loss = criterion(outputs, labels)\n",
    "                loss.backward()\n",
    "                optimizer.step()\n",
    "            print(f\"Epoch {epoch+1}, Loss: {loss.item()}\")\n",
    "\n",
    "    def predict(self, features):\n",
    "        \"\"\"\n",
    "        Make predictions based on the node features.\n",
    "        \"\"\"\n",
    "        self.model.eval()\n",
    "        with torch.no_grad():\n",
    "            features = torch.tensor(features, dtype=torch.float32)\n",
    "            predictions = self.model(features)\n",
    "        return predictions.numpy()\n",
    "\n",
    "    def update_network(self, predictions, threshold=0.5):\n",
    "        \"\"\"\n",
    "        Apply learned insights or predictions to update the multilayer network.\n",
    "        \"\"\"\n",
    "        for idx, node in enumerate(self.network.node_set):\n",
    "            for jdx, predicted in enumerate(predictions[idx]):\n",
    "                if predicted > threshold and idx != jdx:  # Avoid self-loops and weak connections\n",
    "                    self.network.add_edge(node, list(self.network.node_set)[jdx], self.network.layers[0])\n",
    "\n",
    "\n"
   ]
  }
 ],
 "metadata": {
  "kernelspec": {
   "display_name": ".me",
   "language": "python",
   "name": "python3"
  },
  "language_info": {
   "codemirror_mode": {
    "name": "ipython",
    "version": 3
   },
   "file_extension": ".py",
   "mimetype": "text/x-python",
   "name": "python",
   "nbconvert_exporter": "python",
   "pygments_lexer": "ipython3",
   "version": "3.11.2"
  }
 },
 "nbformat": 4,
 "nbformat_minor": 2
}
